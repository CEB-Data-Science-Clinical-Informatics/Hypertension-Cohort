{
 "cells": [
  {
   "cell_type": "markdown",
   "metadata": {},
   "source": [
    "### Libraries as necessary"
   ]
  },
  {
   "cell_type": "code",
   "execution_count": 13,
   "metadata": {},
   "outputs": [],
   "source": [
    "import polars as pl\n",
    "\n",
    "from glob import glob # reading multiple files in the same directory\n",
    "from datetime import datetime\n",
    "\n",
    "from tqdm import tqdm # progress bar\n",
    "import shutup # it just makes me feel better\n",
    "shutup.please()"
   ]
  },
  {
   "cell_type": "code",
   "execution_count": 14,
   "metadata": {},
   "outputs": [],
   "source": [
    "def find_files(paths, years=False, extension=\"\", lookback=0):\n",
    "    '''\n",
    "    Find files that match the specified criteria.\n",
    "\n",
    "    Parameters\n",
    "    ----------\n",
    "    paths : str or list of str\n",
    "        Folder(s) to look for the data files. It MUST be a raw string (r\"\").\n",
    "    years : str or list of str, oprional\n",
    "        Year of the datafile to look for.\n",
    "        If multiple years are provided in a list, it is considered a range.\n",
    "        If not provided, it looks for all files. then lookback is ignored.\n",
    "    extension : str or list of str, optional\n",
    "        File types to look for.\n",
    "        The default is any extension.\n",
    "    lookback : int, optional\n",
    "        The number of years to look back. For orders, this should be 1 since the medication can be ordered first and then billed later.\n",
    "        If multiple years are provided in a list, it looks back from the minimum year.\n",
    "        The default is 0.\n",
    "\n",
    "    Returns\n",
    "    -------\n",
    "    files : list\n",
    "        List of files that match the criteria.\n",
    "    '''\n",
    "\n",
    "    if not isinstance(paths, list):\n",
    "        paths = [paths]\n",
    "\n",
    "    if not isinstance(extension, list):\n",
    "        extension = [extension]\n",
    "\n",
    "    if years:\n",
    "        years = list(map(int, years))\n",
    "        year_list = list(range(min(years) - lookback, max(years) + 1))\n",
    "\n",
    "    paths = ([path + \"/*\" + ext for path in paths for ext in extension])\n",
    "    files  = [glob(path) for path in paths]\n",
    "    files = [file for filelist in files for file in filelist]\n",
    "\n",
    "    files = [file for file in files if any(str(year) in file.split('\\\\')[-1] for year in year_list)]\n",
    "        \n",
    "    return files"
   ]
  },
  {
   "cell_type": "markdown",
   "metadata": {},
   "source": [
    "### ICD-10 criteria"
   ]
  },
  {
   "cell_type": "markdown",
   "metadata": {},
   "source": [
    "ICD-10 codes used to identify are I10, I11, I12, I13 and I15. \n",
    "\n",
    "``str(x).startswith(tuple(icd10))`` is used because ICD-10 code is Alpha character followed by multiple numerical characters (A12344). So, ``startswith`` catches all I10, I100, I101, I1010 and so on.\n",
    "\n",
    "This is the required input format. <br /> \n",
    "\n",
    "| Primary Key | Date | ICD code |\n",
    "|-|-|-|\n",
    "| A | 2023-01-01 | (not relevant) |\n",
    "| A | 2023-01-10 | (relevant) |\n",
    "| A | 2023-01-15 | (relevant) |\n",
    "| A | 2023-02-01 | (relevant) |\n",
    "\n",
    "The first date of diagnosis for each of these codes is considered as date of HT diagnosis, so only the earliest date is kept. <br /> \n",
    "\n",
    "| Primary Key | Date | ICD code |\n",
    "|-|-|-|\n",
    "| A | 2023-01-10 | (relevant) |"
   ]
  },
  {
   "cell_type": "code",
   "execution_count": 15,
   "metadata": {},
   "outputs": [],
   "source": [
    "start  = datetime.strptime(\"20230701\", \"%Y%m%d\")"
   ]
  },
  {
   "cell_type": "code",
   "execution_count": 17,
   "metadata": {},
   "outputs": [
    {
     "name": "stderr",
     "output_type": "stream",
     "text": [
      "100%|██████████| 14/14 [00:00<00:00, 71.37it/s]\n"
     ]
    }
   ],
   "source": [
    "# Diagnosis\n",
    "\n",
    "icd10 = [\"I10\", \"I11\", \"I12\", \"I13\", \"I15\"]\n",
    "\n",
    "paths = \"folders including diagnosis data\"\n",
    "\n",
    "files = find_files(paths, years=\"2023\")\n",
    "read = []\n",
    "for file in tqdm(files):\n",
    "    temp = pl.scan_parquet(file)\n",
    "    temp = (temp.select([\"ENC_HN\", \"D001KEY\", \"D035KEY\"]).with_columns(pl.col(\"D001KEY\").cast(pl.Date))\n",
    "            .filter(pl.any_horizontal(pl.col(\"D035KEY\").str.starts_with(code) for code in icd10))\n",
    "            .filter(pl.col(\"D001KEY\")>=start).groupby([\"ENC_HN\", \"D001KEY\"]).agg(pl.col(\"D035KEY\").unique())\n",
    "            .sort([\"ENC_HN\", \"D001KEY\"]).unique(subset=[\"ENC_HN\"]))\n",
    "    read.append(temp)\n",
    "\n",
    "dx = pl.concat(read).collect()"
   ]
  },
  {
   "cell_type": "markdown",
   "metadata": {},
   "source": [
    "### Medication criteria"
   ]
  },
  {
   "cell_type": "markdown",
   "metadata": {},
   "source": [
    "The same goes for medication. We identified the medications prescribed in Ramathibodi Hospital and filtered for relevant drug classes. The mapping table was prepared by Dr Kunlawat Thadanipon and Dr Thosaphol Limpijankit."
   ]
  },
  {
   "cell_type": "code",
   "execution_count": 21,
   "metadata": {},
   "outputs": [
    {
     "data": {
      "text/html": [
       "<div><style>\n",
       ".dataframe > thead > tr,\n",
       ".dataframe > tbody > tr {\n",
       "  text-align: right;\n",
       "  white-space: pre-wrap;\n",
       "}\n",
       "</style>\n",
       "<small>shape: (5, 11)</small><table border=\"1\" class=\"dataframe\"><thead><tr><th>ramadrugcode</th><th>drugname</th><th>combination</th><th>combinationsplit</th><th>atc3</th><th>atc3des</th><th>atc5</th><th>atc5des</th><th>subclass</th><th>drugclass</th><th>starting</th></tr><tr><td>str</td><td>str</td><td>str</td><td>str</td><td>str</td><td>str</td><td>str</td><td>str</td><td>str</td><td>str</td><td>str</td></tr></thead><tbody><tr><td>&quot;xxxxxx-&quot;</td><td>&quot;Accupril 20 mg…</td><td>&quot;Quinapril&quot;</td><td>&quot;Quinapril&quot;</td><td>&quot;C09A&quot;</td><td>&quot;ACE INHIBITORS…</td><td>&quot;C09AA06&quot;</td><td>&quot;Quinapril&quot;</td><td>&quot;ACEI&quot;</td><td>&quot;ACEI&quot;</td><td>null</td></tr><tr><td>&quot;xxxxxx-&quot;</td><td>&quot;Accupril 10 mg…</td><td>&quot;Quinapril&quot;</td><td>&quot;Quinapril&quot;</td><td>&quot;C09A&quot;</td><td>&quot;ACE INHIBITORS…</td><td>&quot;C09AA06&quot;</td><td>&quot;Quinapril&quot;</td><td>&quot;ACEI&quot;</td><td>&quot;ACEI&quot;</td><td>null</td></tr><tr><td>&quot;xxxxxx-&quot;</td><td>&quot;Accupril 40 mg…</td><td>&quot;Quinapril&quot;</td><td>&quot;Quinapril&quot;</td><td>&quot;C09A&quot;</td><td>&quot;ACE INHIBITORS…</td><td>&quot;C09AA06&quot;</td><td>&quot;Quinapril&quot;</td><td>&quot;ACEI&quot;</td><td>&quot;ACEI&quot;</td><td>null</td></tr><tr><td>&quot;xxxxxx-&quot;</td><td>&quot;Accupril 5 mg&quot;</td><td>&quot;Quinapril&quot;</td><td>&quot;Quinapril&quot;</td><td>&quot;C09A&quot;</td><td>&quot;ACE INHIBITORS…</td><td>&quot;C09AA06&quot;</td><td>&quot;Quinapril&quot;</td><td>&quot;ACEI&quot;</td><td>&quot;ACEI&quot;</td><td>null</td></tr><tr><td>&quot;xxxxxx-&quot;</td><td>&quot;Accuretic 10/1…</td><td>&quot;Quinapril+Hydr…</td><td>&quot;Quinapril&quot;</td><td>&quot;C09B&quot;</td><td>&quot;ACE INHIBITORS…</td><td>&quot;C09BA06&quot;</td><td>&quot;Quinapril and …</td><td>&quot;ACEI&quot;</td><td>&quot;ACEI&quot;</td><td>null</td></tr></tbody></table></div>"
      ],
      "text/plain": [
       "shape: (5, 11)\n",
       "┌────────────┬───────────┬───────────┬───────────┬───┬───────────┬──────────┬───────────┬──────────┐\n",
       "│ ramadrugco ┆ drugname  ┆ combinati ┆ combinati ┆ … ┆ atc5des   ┆ subclass ┆ drugclass ┆ starting │\n",
       "│ de         ┆ ---       ┆ on        ┆ onsplit   ┆   ┆ ---       ┆ ---      ┆ ---       ┆ ---      │\n",
       "│ ---        ┆ str       ┆ ---       ┆ ---       ┆   ┆ str       ┆ str      ┆ str       ┆ str      │\n",
       "│ str        ┆           ┆ str       ┆ str       ┆   ┆           ┆          ┆           ┆          │\n",
       "╞════════════╪═══════════╪═══════════╪═══════════╪═══╪═══════════╪══════════╪═══════════╪══════════╡\n",
       "│ xxxxxx-    ┆ Accupril  ┆ Quinapril ┆ Quinapril ┆ … ┆ Quinapril ┆ ACEI     ┆ ACEI      ┆ null     │\n",
       "│            ┆ 20 mg     ┆           ┆           ┆   ┆           ┆          ┆           ┆          │\n",
       "│ xxxxxx-    ┆ Accupril  ┆ Quinapril ┆ Quinapril ┆ … ┆ Quinapril ┆ ACEI     ┆ ACEI      ┆ null     │\n",
       "│            ┆ 10 mg     ┆           ┆           ┆   ┆           ┆          ┆           ┆          │\n",
       "│ xxxxxx-    ┆ Accupril  ┆ Quinapril ┆ Quinapril ┆ … ┆ Quinapril ┆ ACEI     ┆ ACEI      ┆ null     │\n",
       "│            ┆ 40 mg     ┆           ┆           ┆   ┆           ┆          ┆           ┆          │\n",
       "│ xxxxxx-    ┆ Accupril  ┆ Quinapril ┆ Quinapril ┆ … ┆ Quinapril ┆ ACEI     ┆ ACEI      ┆ null     │\n",
       "│            ┆ 5 mg      ┆           ┆           ┆   ┆           ┆          ┆           ┆          │\n",
       "│ xxxxxx-    ┆ Accuretic ┆ Quinapril ┆ Quinapril ┆ … ┆ Quinapril ┆ ACEI     ┆ ACEI      ┆ null     │\n",
       "│            ┆ 10/12.5 m ┆ +Hydrochl ┆           ┆   ┆ and       ┆          ┆           ┆          │\n",
       "│            ┆           ┆ orothiazi ┆           ┆   ┆ diuretics ┆          ┆           ┆          │\n",
       "│            ┆           ┆ de        ┆           ┆   ┆           ┆          ┆           ┆          │\n",
       "└────────────┴───────────┴───────────┴───────────┴───┴───────────┴──────────┴───────────┴──────────┘"
      ]
     },
     "execution_count": 21,
     "metadata": {},
     "output_type": "execute_result"
    }
   ],
   "source": [
    "\"Medication\"\n",
    "\n",
    "key = pl.read_excel(r\"map_list\\cohort_anti_HT.xlsx\", sheet_name=\"selected drug classes\")\n",
    "key.head()"
   ]
  },
  {
   "cell_type": "markdown",
   "metadata": {},
   "source": [
    "This is the required input format. <br /> \n",
    "\n",
    "| Primary Key | Date | Drugcode |\n",
    "|-|-|-|\n",
    "| A | 2023-01-01 | (not relevant) |\n",
    "| A | 2023-01-10 | (relevant) |\n",
    "| A | 2023-01-10 | (relevant) |\n",
    "| A | 2023-02-01 | (relevant) |\n",
    "\n",
    "Essentially the goal is to identify the transactions where relevant Anti Hypertensive medication was given, and keep the earliest date. Please note that multiple relevant medications can be prescribed on the same day. <br /> \n",
    "\n",
    "| Primary Key | Date | Drugcode |\n",
    "|-|-|-|\n",
    "| A | 2023-01-10 | (relevant) |\n",
    "| A | 2023-01-10 | (relevant) |\n"
   ]
  },
  {
   "cell_type": "code",
   "execution_count": 24,
   "metadata": {},
   "outputs": [
    {
     "name": "stderr",
     "output_type": "stream",
     "text": [
      "100%|██████████| 1/1 [00:00<00:00, 83.28it/s]\n"
     ]
    }
   ],
   "source": [
    "paths = \"folders including medication data\"\n",
    "\n",
    "files = find_files(paths, years=\"2023\")\n",
    "\n",
    "read = []\n",
    "for file in tqdm(files):\n",
    "    temp = pl.scan_parquet(file)\n",
    "    temp = (temp.with_columns(pl.col(\"BillDate\").fill_null(pl.col(\"OrderDate\")))\n",
    "            .select([\"ENC_HN\", \"BillDate\", \"Drugcode\"]).with_columns(pl.col(\"BillDate\").cast(pl.Date))\n",
    "            .filter(pl.col(\"Drugcode\").is_in(key[\"ramadrugcode\"]))\n",
    "            .filter(pl.col(\"BillDate\")>=start).groupby([\"ENC_HN\", \"BillDate\"]).agg(pl.col(\"Drugcode\").unique())\n",
    "            .sort([\"ENC_HN\", \"BillDate\"]).unique(subset=[\"ENC_HN\"]))\n",
    "    read.append(temp)\n",
    "\n",
    "med = pl.concat(read).collect()"
   ]
  },
  {
   "cell_type": "markdown",
   "metadata": {},
   "source": [
    "### New cases of Hypertension"
   ]
  },
  {
   "cell_type": "markdown",
   "metadata": {},
   "source": [
    "This step is not necessary for the first time. For me, I am updating my cohort so subjects already in the cohort are removed."
   ]
  },
  {
   "cell_type": "code",
   "execution_count": 26,
   "metadata": {},
   "outputs": [],
   "source": [
    "# because it is an update, I remove old cases.\n",
    "\n",
    "old_hn = pl.read_csv(r\"path\\2010-202306\\hthn_2010_202306.csv\")\n",
    "\n",
    "new_dx = dx.filter(~pl.col(\"ENC_HN\").is_in(old_hn[\"ENC_HN\"]))\n",
    "new_med = med.filter(~pl.col(\"ENC_HN\").is_in(old_hn[\"ENC_HN\"]))\n",
    "\n",
    "# these numbers are up to changes since new_dx can be med_only if prescription is observed earlier than diagnosis"
   ]
  },
  {
   "cell_type": "markdown",
   "metadata": {},
   "source": [
    "### Merging for tentative number of cases"
   ]
  },
  {
   "cell_type": "markdown",
   "metadata": {},
   "source": [
    "This is diagnosis data. <br /> \n",
    "| Primary Key | Date | ICD |\n",
    "|-|-|-|\n",
    "| A | 2023-01-09 | (icd code) |\n",
    "| C | 2023-02-13 | (icd code) |\n",
    "\n",
    "This is medication data. <br /> \n",
    "| Primary Key | Date | MED |\n",
    "|-|-|-|\n",
    "| A | 2023-01-10 | (med code) |\n",
    "| B | 2023-01-13 | (med code) |\n",
    "| C | 2023-02-13 | (med code) |\n",
    "\n",
    "This is merging for tentative number of cases. While the patient might be in both ICD and Medication groups, we identify by the first date of diagnosis. <br /> \n",
    "\n",
    "| Primary Key | ICD_Date | Med_Date | First_Date | flag |\n",
    "|-|-|-|-|-|\n",
    "| A | 2023-01-09 | 2023-01-10 | 2023-01-09 | icd |\n",
    "| B | | 2023-01-13 | 2023-01-13 | med |\n",
    "| C | 2023-02-13 | 2023-02-13 | 2023-02-13 | both |\n",
    "\n",
    "In these subjects, subject A is considered ICD only, subject B as Anti-H only and C as both ICD-10 and Anti-H group.\n",
    "\n"
   ]
  },
  {
   "cell_type": "code",
   "execution_count": 27,
   "metadata": {},
   "outputs": [
    {
     "name": "stdout",
     "output_type": "stream",
     "text": [
      "No of possible HT subjects are 6,800.\n",
      "For icd group, the number of subjects is 2,227.\n",
      "For both group, the number of subjects is 758.\n",
      "For med group, the number of subjects is 3,815.\n"
     ]
    }
   ],
   "source": [
    "new_dx.columns = [\"ENC_HN\", \"ICD_DATE\", \"ICD\"]\n",
    "new_med.columns = [\"ENC_HN\", \"MED_DATE\", \"MED\"]\n",
    "\n",
    "data = (new_dx.join(new_med, on = [\"ENC_HN\"], how=\"outer_coalesce\")\n",
    "        .with_columns(pl.min_horizontal([\"ICD_DATE\", \"MED_DATE\"]).alias(\"D001KEY\"))\n",
    "        .with_columns(pl.when((pl.col(\"D001KEY\")==pl.col(\"ICD_DATE\")) & (pl.col(\"D001KEY\")==pl.col(\"MED_DATE\"))).then(pl.lit(\"both\"))\n",
    "                    .otherwise(pl.when((pl.col(\"D001KEY\")==pl.col(\"ICD_DATE\"))).then(pl.lit(\"icd\"))\n",
    "                                .otherwise(pl.lit(\"med\"))).alias(\"flag\")))\n",
    "\n",
    "print(\"No of possible HT subjects are {:,}.\".format(data[\"ENC_HN\"].n_unique()))\n",
    "\n",
    "for flag in [\"icd\", \"both\", \"med\"]:\n",
    "    print(\"For {} group, the number of subjects is {:,}.\".format(flag, len(data.filter(pl.col(\"flag\")==flag))))\n",
    "\n",
    "\n",
    "# data.write_parquet(r\"path/new_case/merged_hn_inferred.parquet.gzip\")"
   ]
  },
  {
   "cell_type": "markdown",
   "metadata": {},
   "source": [
    "### Filtering the medication only cases"
   ]
  },
  {
   "cell_type": "markdown",
   "metadata": {},
   "source": [
    "Since medications are identified using ramadrugcodes, they are transformed into generic drug classes using the previously shown mapping table.\n",
    "\n",
    "``ast.literal_eval`` is required if the data file is imported again since Pandas does not import ``dtype`` as ``list``."
   ]
  },
  {
   "cell_type": "code",
   "execution_count": 28,
   "metadata": {},
   "outputs": [
    {
     "name": "stdout",
     "output_type": "stream",
     "text": [
      "\n",
      "Mapping ramadrugcodes such as CRDP1I- to generic drugclass such as CCB_DHP\n"
     ]
    },
    {
     "data": {
      "text/html": [
       "<div><style>\n",
       ".dataframe > thead > tr,\n",
       ".dataframe > tbody > tr {\n",
       "  text-align: right;\n",
       "  white-space: pre-wrap;\n",
       "}\n",
       "</style>\n",
       "<small>shape: (5, 2)</small><table border=\"1\" class=\"dataframe\"><thead><tr><th>MED</th><th>drugclass</th></tr><tr><td>list[str]</td><td>list[str]</td></tr></thead><tbody><tr><td>[&quot;CRDP1I-&quot;]</td><td>[&quot;CCB_DHP&quot;]</td></tr><tr><td>[&quot;PPNL1T-&quot;]</td><td>[&quot;beta_blocker&quot;]</td></tr><tr><td>[&quot;MADI1T-&quot;, &quot;HYDH-T-&quot;]</td><td>[&quot;hydralazine&quot;, &quot;CCB_DHP&quot;]</td></tr><tr><td>[&quot;DOXA1T-&quot;]</td><td>[&quot;alpha_blocker&quot;]</td></tr><tr><td>[&quot;PPNL1T-&quot;]</td><td>[&quot;beta_blocker&quot;]</td></tr></tbody></table></div>"
      ],
      "text/plain": [
       "shape: (5, 2)\n",
       "┌────────────────────────┬────────────────────────────┐\n",
       "│ MED                    ┆ drugclass                  │\n",
       "│ ---                    ┆ ---                        │\n",
       "│ list[str]              ┆ list[str]                  │\n",
       "╞════════════════════════╪════════════════════════════╡\n",
       "│ [\"CRDP1I-\"]            ┆ [\"CCB_DHP\"]                │\n",
       "│ [\"PPNL1T-\"]            ┆ [\"beta_blocker\"]           │\n",
       "│ [\"MADI1T-\", \"HYDH-T-\"] ┆ [\"hydralazine\", \"CCB_DHP\"] │\n",
       "│ [\"DOXA1T-\"]            ┆ [\"alpha_blocker\"]          │\n",
       "│ [\"PPNL1T-\"]            ┆ [\"beta_blocker\"]           │\n",
       "└────────────────────────┴────────────────────────────┘"
      ]
     },
     "execution_count": 28,
     "metadata": {},
     "output_type": "execute_result"
    }
   ],
   "source": [
    "key = pl.read_excel(r\"path\\map_list\\cohort_anti_HT.xlsx\", sheet_name=\"selected drug classes\")\n",
    "key = dict(key.select([\"ramadrugcode\", \"subclass\"]).iter_rows())\n",
    "\n",
    "med_only = data.filter(pl.col(\"flag\")==\"med\") # med only group\n",
    "med_only = (med_only.join(med_only.explode(\"MED\")\n",
    "                          .with_columns(pl.col(\"MED\").replace(key).alias(\"drugclass\"))\n",
    "                          .group_by(\"ENC_HN\").agg(pl.col(\"drugclass\").unique()), \n",
    "                          on=\"ENC_HN\"))\n",
    "\n",
    "print(\"\\nMapping ramadrugcodes such as {} to generic drugclass such as {}\".format(med_only[\"MED\"][0][0], med_only[\"drugclass\"][0][0]))\n",
    "med_only[[\"MED\", \"drugclass\"]].head()"
   ]
  },
  {
   "cell_type": "markdown",
   "metadata": {},
   "source": [
    "As of 2024 January, we check for gender specific medication usages, such as K-sparing Diuretics for Acnes in Female patients. Gender is added."
   ]
  },
  {
   "cell_type": "code",
   "execution_count": 29,
   "metadata": {},
   "outputs": [],
   "source": [
    "demo = pl.scan_parquet(r\"demographic_data.parquet.gzip\")\n",
    "\n",
    "med_only = med_only.join(demo.select([\"ENC_HN\", \"H2L1KEY\"]).unique(\"ENC_HN\")\n",
    "                         .rename({\"H2L1KEY\": \"Gender\"})\n",
    "                         .with_columns(pl.col(\"Gender\").replace({\"M\": \"Male\", \"F\": \"Female\"}))\n",
    "                         .collect(), on=\"ENC_HN\")"
   ]
  },
  {
   "cell_type": "markdown",
   "metadata": {},
   "source": [
    "Other indications for specific drug classes were prepared by Dr Kunlawat Thadanipon and Dr Thosaphol Limpijankit. The function ``check_history`` look for other indications in patient's history using ICD-10 codes.\n",
    "\n",
    "The input is list of medications and the date of prescription to check. <br /> \n",
    "\n",
    "| Primary Key | Date | drugclass |\n",
    "|-|-|-|\n",
    "| A | 2023-01-10 | [drug A, drug B] |\n",
    "\n",
    "If they have corresponding history, the output is tuple of indication and medication. <br /> \n",
    "\n",
    "| Primary Key | Date | drugclass | Check History|\n",
    "|-|-|-|-|\n",
    "| A | 2023-01-10 | [drug A, drug B] | [drug A, (other indication on 2022-10-04, drug B)] |\n",
    "\n",
    "If the patient have at least one Anti-H that does not correspond with other indication, we include them."
   ]
  },
  {
   "cell_type": "code",
   "execution_count": 32,
   "metadata": {},
   "outputs": [],
   "source": [
    "# Other indication\n",
    "\n",
    "indi = pl.read_excel(r\"path\\map_list\\medication_map_2401.xlsx\", sheet_name=\"other indications\")\n",
    "\n",
    "indi = (indi.select(pl.exclude(\"ICD-10\")).join((\n",
    "        indi.with_columns(pl.col(\"ICD-10\").str.replace_all(r\"\\.\", \"\").str.split(\",\"))\n",
    "        .explode(\"ICD-10\").with_columns(pl.col(\"ICD-10\").str.strip().str.ljust(4, \"0\"))\n",
    "        .groupby(\"subclass\", \"Other Indications\").agg(pl.col(\"ICD-10\").unique())), on=[\"subclass\", \"Other Indications\"]))\n",
    "\n",
    "paths = \"folders including diagnosis data\"\n",
    "\n",
    "files = find_files(paths, years=[\"2010\", \"2023\"])\n",
    "\n",
    "read = []\n",
    "for file in files:\n",
    "    temp = pl.scan_parquet(files)\n",
    "    temp = (temp.select([\"ENC_HN\", \"D001KEY\", \"D035KEY\"])\n",
    "            .filter(pl.col(\"ENC_HN\").is_in(med_only[\"ENC_HN\"]))\n",
    "            .filter(pl.col(\"D035KEY\").is_in(indi[\"ICD-10\"].explode().unique()))\n",
    "            .with_columns(pl.col(\"D001KEY\").cast(pl.Date)))\n",
    "    read.append(temp)\n",
    "\n",
    "dx = pl.concat(read).collect()"
   ]
  },
  {
   "cell_type": "code",
   "execution_count": 35,
   "metadata": {},
   "outputs": [
    {
     "data": {
      "text/html": [
       "<div><style>\n",
       ".dataframe > thead > tr,\n",
       ".dataframe > tbody > tr {\n",
       "  text-align: right;\n",
       "  white-space: pre-wrap;\n",
       "}\n",
       "</style>\n",
       "<small>shape: (5, 8)</small><table border=\"1\" class=\"dataframe\"><thead><tr><th>ENC_HN</th><th>D001KEY</th><th>ICD_DATE</th><th>ICD</th><th>MED_DATE</th><th>drugclass</th><th>flag</th><th>check_history</th></tr><tr><td>str</td><td>date</td><td>date</td><td>list[str]</td><td>date</td><td>list[str]</td><td>str</td><td>list[str]</td></tr></thead><tbody><tr><td>&quot;A&quot;</td><td>2023-12-22</td><td>null</td><td>null</td><td>2023-12-22</td><td>[&quot;beta_blocker&quot;]</td><td>&quot;med&quot;</td><td>[&quot;Hyperthyroidism on 2023-12-22&quot;]</td></tr><tr><td>&quot;B&quot;</td><td>2023-11-13</td><td>null</td><td>null</td><td>2023-11-13</td><td>[&quot;beta_blocker&quot;]</td><td>&quot;med&quot;</td><td>[&quot;Atrial fibrillation on 2022-08-09&quot;]</td></tr><tr><td>&quot;C&quot;</td><td>2023-11-27</td><td>null</td><td>null</td><td>2023-11-27</td><td>[&quot;beta_blocker&quot;]</td><td>&quot;med&quot;</td><td>[&quot;Hyperthyroidism on 2015-07-06&quot;]</td></tr><tr><td>&quot;D&quot;</td><td>2023-08-10</td><td>null</td><td>null</td><td>2023-08-10</td><td>[&quot;beta_blocker&quot;]</td><td>&quot;med&quot;</td><td>[&quot;Hyperthyroidism on 2015-05-01&quot;]</td></tr><tr><td>&quot;E&quot;</td><td>2023-10-18</td><td>2023-10-22</td><td>[&quot;I10&quot;]</td><td>2023-10-18</td><td>[&quot;CCB_nonDHP&quot;]</td><td>&quot;med&quot;</td><td>[&quot;Arrhythmias on 2023-10-17&quot;]</td></tr></tbody></table></div>"
      ],
      "text/plain": [
       "shape: (5, 8)\n",
       "┌────────┬────────────┬────────────┬───────────┬────────────┬───────────────┬──────┬───────────────┐\n",
       "│ ENC_HN ┆ D001KEY    ┆ ICD_DATE   ┆ ICD       ┆ MED_DATE   ┆ drugclass     ┆ flag ┆ check_history │\n",
       "│ ---    ┆ ---        ┆ ---        ┆ ---       ┆ ---        ┆ ---           ┆ ---  ┆ ---           │\n",
       "│ str    ┆ date       ┆ date       ┆ list[str] ┆ date       ┆ list[str]     ┆ str  ┆ list[str]     │\n",
       "╞════════╪════════════╪════════════╪═══════════╪════════════╪═══════════════╪══════╪═══════════════╡\n",
       "│ A      ┆ 2023-12-22 ┆ null       ┆ null      ┆ 2023-12-22 ┆ [\"beta_blocke ┆ med  ┆ [\"Hyperthyroi │\n",
       "│        ┆            ┆            ┆           ┆            ┆ r\"]           ┆      ┆ dism on       │\n",
       "│        ┆            ┆            ┆           ┆            ┆               ┆      ┆ 2023-12-22\"…  │\n",
       "│ B      ┆ 2023-11-13 ┆ null       ┆ null      ┆ 2023-11-13 ┆ [\"beta_blocke ┆ med  ┆ [\"Atrial      │\n",
       "│        ┆            ┆            ┆           ┆            ┆ r\"]           ┆      ┆ fibrillation  │\n",
       "│        ┆            ┆            ┆           ┆            ┆               ┆      ┆ on 2022-08…   │\n",
       "│ C      ┆ 2023-11-27 ┆ null       ┆ null      ┆ 2023-11-27 ┆ [\"beta_blocke ┆ med  ┆ [\"Hyperthyroi │\n",
       "│        ┆            ┆            ┆           ┆            ┆ r\"]           ┆      ┆ dism on       │\n",
       "│        ┆            ┆            ┆           ┆            ┆               ┆      ┆ 2015-07-06\"…  │\n",
       "│ D      ┆ 2023-08-10 ┆ null       ┆ null      ┆ 2023-08-10 ┆ [\"beta_blocke ┆ med  ┆ [\"Hyperthyroi │\n",
       "│        ┆            ┆            ┆           ┆            ┆ r\"]           ┆      ┆ dism on       │\n",
       "│        ┆            ┆            ┆           ┆            ┆               ┆      ┆ 2015-05-01\"…  │\n",
       "│ E      ┆ 2023-10-18 ┆ 2023-10-22 ┆ [\"I10\"]   ┆ 2023-10-18 ┆ [\"CCB_nonDHP\" ┆ med  ┆ [\"Arrhythmias │\n",
       "│        ┆            ┆            ┆           ┆            ┆ ]             ┆      ┆ on            │\n",
       "│        ┆            ┆            ┆           ┆            ┆               ┆      ┆ 2023-10-17\"]  │\n",
       "└────────┴────────────┴────────────┴───────────┴────────────┴───────────────┴──────┴───────────────┘"
      ]
     },
     "execution_count": 35,
     "metadata": {},
     "output_type": "execute_result"
    }
   ],
   "source": [
    "history = []\n",
    "for subclass in indi[\"subclass\"].unique():\n",
    "    subject_check = med_only.explode(\"drugclass\").filter(pl.col(\"drugclass\")==subclass)\n",
    "    check = (indi.filter(pl.col(\"subclass\")==subclass)\n",
    "            [\"Other Indications\"].unique())\n",
    "    for val in check:\n",
    "        indi_check = indi.filter(pl.col(\"Other Indications\")==val)\n",
    "        if any(indi_check[\"Gender\"]==\"Female\"):\n",
    "            subject_check = subject_check.filter(pl.col(\"Gender\")==\"Female\")\n",
    "        subject = (dx.filter(pl.col(\"ENC_HN\").is_in(subject_check[\"ENC_HN\"]))\n",
    "                   .filter(pl.col(\"D035KEY\").is_in(indi_check[\"ICD-10\"].explode().unique()))\n",
    "                   .join(subject_check.select([\"ENC_HN\", \"MED_DATE\"]), on=\"ENC_HN\", how=\"left\")\n",
    "                   .filter(pl.col(\"D001KEY\")<=pl.col(\"MED_DATE\")).sort([\"ENC_HN\", \"D001KEY\"]).unique(\"ENC_HN\")\n",
    "                   .with_columns(check_history = val + \" on \" + pl.col(\"D001KEY\").cast(pl.String)))\n",
    "        history.append(subject)\n",
    "\n",
    "history = (pl.concat(history)\n",
    "           .group_by(\"ENC_HN\").agg(pl.col(\"check_history\").unique())\n",
    "           .select([\"ENC_HN\", \"check_history\"]))\n",
    "\n",
    "to_drop = med_only.join(history, on=\"ENC_HN\", how=\"inner\")\n",
    "\n",
    "to_drop.write_excel(r\"path/new_case/med_only_other_indication_all_des2.xlsx\")\n",
    "\n",
    "pl.concat([pl.DataFrame({\"ENC_HN\": [\"A\", \"B\", \"C\", \"D\", \"E\"]}), to_drop[[\"D001KEY\", \"ICD_DATE\", \"ICD\", \"MED_DATE\", \"drugclass\", \"flag\", \"check_history\"]].head(5)], how=\"horizontal\")"
   ]
  },
  {
   "cell_type": "markdown",
   "metadata": {},
   "source": [
    "### Final Merge"
   ]
  },
  {
   "cell_type": "markdown",
   "metadata": {},
   "source": [
    "Diagnosis of HT is inferred from medication, after we have dropped those subjects."
   ]
  },
  {
   "cell_type": "code",
   "execution_count": 36,
   "metadata": {},
   "outputs": [
    {
     "name": "stdout",
     "output_type": "stream",
     "text": [
      "No of possible HT subjects are 6,657.\n",
      "For icd group, the number of subjects is 2,227.\n",
      "For both group, the number of subjects is 758.\n",
      "For med group, the number of subjects is 3,672.\n"
     ]
    },
    {
     "data": {
      "text/html": [
       "<div><style>\n",
       ".dataframe > thead > tr,\n",
       ".dataframe > tbody > tr {\n",
       "  text-align: right;\n",
       "  white-space: pre-wrap;\n",
       "}\n",
       "</style>\n",
       "<small>shape: (5, 7)</small><table border=\"1\" class=\"dataframe\"><thead><tr><th>ENC_HN</th><th>D001KEY</th><th>ICD_DATE</th><th>ICD</th><th>MED_DATE</th><th>MED</th><th>flag</th></tr><tr><td>str</td><td>date</td><td>date</td><td>list[str]</td><td>date</td><td>list[str]</td><td>str</td></tr></thead><tbody><tr><td>&quot;A&quot;</td><td>2023-09-07</td><td>null</td><td>null</td><td>2023-09-07</td><td>[&quot;DOXA1T-&quot;]</td><td>&quot;med&quot;</td></tr><tr><td>&quot;B&quot;</td><td>2023-12-25</td><td>2023-12-27</td><td>[&quot;I10&quot;]</td><td>2023-12-25</td><td>[&quot;IRBW1T-&quot;, &quot;DILZ1T-&quot;, &quot;HCTZ1T-&quot;]</td><td>&quot;med&quot;</td></tr><tr><td>&quot;C&quot;</td><td>2023-09-14</td><td>2023-09-14</td><td>[&quot;I129&quot;]</td><td>2023-11-30</td><td>[&quot;AMLP1T-&quot;, &quot;BIBI1T-&quot;]</td><td>&quot;icd&quot;</td></tr><tr><td>&quot;D&quot;</td><td>2023-11-25</td><td>2023-12-03</td><td>[&quot;I10&quot;]</td><td>2023-11-25</td><td>[&quot;MADI1T-&quot;, &quot;HYDH-T-&quot;]</td><td>&quot;med&quot;</td></tr><tr><td>&quot;E&quot;</td><td>2023-12-18</td><td>null</td><td>null</td><td>2023-12-18</td><td>[&quot;LOSL-T-&quot;]</td><td>&quot;med&quot;</td></tr></tbody></table></div>"
      ],
      "text/plain": [
       "shape: (5, 7)\n",
       "┌────────┬────────────┬────────────┬───────────┬────────────┬────────────────────────┬──────┐\n",
       "│ ENC_HN ┆ D001KEY    ┆ ICD_DATE   ┆ ICD       ┆ MED_DATE   ┆ MED                    ┆ flag │\n",
       "│ ---    ┆ ---        ┆ ---        ┆ ---       ┆ ---        ┆ ---                    ┆ ---  │\n",
       "│ str    ┆ date       ┆ date       ┆ list[str] ┆ date       ┆ list[str]              ┆ str  │\n",
       "╞════════╪════════════╪════════════╪═══════════╪════════════╪════════════════════════╪══════╡\n",
       "│ A      ┆ 2023-09-07 ┆ null       ┆ null      ┆ 2023-09-07 ┆ [\"DOXA1T-\"]            ┆ med  │\n",
       "│ B      ┆ 2023-12-25 ┆ 2023-12-27 ┆ [\"I10\"]   ┆ 2023-12-25 ┆ [\"IRBW1T-\", \"DILZ1T-\", ┆ med  │\n",
       "│        ┆            ┆            ┆           ┆            ┆ \"HCTZ1T-\"…             ┆      │\n",
       "│ C      ┆ 2023-09-14 ┆ 2023-09-14 ┆ [\"I129\"]  ┆ 2023-11-30 ┆ [\"AMLP1T-\", \"BIBI1T-\"] ┆ icd  │\n",
       "│ D      ┆ 2023-11-25 ┆ 2023-12-03 ┆ [\"I10\"]   ┆ 2023-11-25 ┆ [\"MADI1T-\", \"HYDH-T-\"] ┆ med  │\n",
       "│ E      ┆ 2023-12-18 ┆ null       ┆ null      ┆ 2023-12-18 ┆ [\"LOSL-T-\"]            ┆ med  │\n",
       "└────────┴────────────┴────────────┴───────────┴────────────┴────────────────────────┴──────┘"
      ]
     },
     "execution_count": 36,
     "metadata": {},
     "output_type": "execute_result"
    }
   ],
   "source": [
    "final_data = data.filter(~pl.col(\"ENC_HN\").is_in(to_drop[\"ENC_HN\"]))\n",
    "\n",
    "print(\"No of possible HT subjects are {:,}.\".format(final_data[\"ENC_HN\"].n_unique()))\n",
    "\n",
    "for flag in [\"icd\", \"both\", \"med\"]:\n",
    "    print(\"For {} group, the number of subjects is {:,}.\".format(flag, len(final_data.filter(pl.col(\"flag\")==flag))))\n",
    "\n",
    "pl.concat([pl.DataFrame({\"ENC_HN\": [\"A\", \"B\", \"C\", \"D\", \"E\"]}), final_data[[\"D001KEY\", \"ICD_DATE\", \"ICD\", \"MED_DATE\", \"MED\", \"flag\"]].head(5)], how=\"horizontal\")"
   ]
  }
 ],
 "metadata": {
  "kernelspec": {
   "display_name": "Python 3.10.6 ('hteza')",
   "language": "python",
   "name": "python3"
  },
  "language_info": {
   "codemirror_mode": {
    "name": "ipython",
    "version": 3
   },
   "file_extension": ".py",
   "mimetype": "text/x-python",
   "name": "python",
   "nbconvert_exporter": "python",
   "pygments_lexer": "ipython3",
   "version": "3.9.0"
  },
  "vscode": {
   "interpreter": {
    "hash": "fc6b5e5f7b5def4b8d02fdf82a8c35e08c662f89fddbe275b4cc44e8b8f1dd07"
   }
  }
 },
 "nbformat": 4,
 "nbformat_minor": 2
}
