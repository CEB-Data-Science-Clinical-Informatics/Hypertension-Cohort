{
 "cells": [
  {
   "cell_type": "markdown",
   "metadata": {},
   "source": [
    "### Libraries as necessary"
   ]
  },
  {
   "cell_type": "code",
   "execution_count": 142,
   "metadata": {},
   "outputs": [],
   "source": [
    "import pandas as pd\n",
    "import numpy as np \n",
    "\n",
    "import glob # reading multiple files in the same directory\n",
    "import ast # because multiple medications on the same day are kept as list, they are read as String if you were to export and import again, use ast.literal_eval to read them as list again\n",
    "\n",
    "from tqdm import tqdm # progress bar\n",
    "tqdm.pandas()\n",
    "\n",
    "import shutup # it just makes me feel better\n",
    "shutup.please()"
   ]
  },
  {
   "cell_type": "markdown",
   "metadata": {},
   "source": [
    "### ICD-10 criteria"
   ]
  },
  {
   "cell_type": "markdown",
   "metadata": {},
   "source": [
    "ICD-10 codes used to identify are I10, I11, I12, I13 and I15. \n",
    "\n",
    "``str(x).startswith(tuple(icd10))`` is used because ICD-10 code is Alpha character followed by multiple numerical characters (A12344). So, ``startswith`` catches all I10, I100, I101, I1010 and so on.\n",
    "\n",
    "This is the required input format. \n",
    "\n",
    "| Primary Key | Date | ICD code |\n",
    "|-|-|-|\n",
    "| A | 2023-01-01 | (not relevant) |\n",
    "| A | 2023-01-10 | (relevant) |\n",
    "| A | 2023-01-15 | (relevant) |\n",
    "| A | 2023-02-01 | (relevant) |\n",
    "\n",
    "The first date of diagnosis for each of these codes is considered as date of HT diagnosis, so only the earliest date is kept.\n",
    "| Primary Key | Date | Drugcode |\n",
    "|-|-|-|\n",
    "| A | 2023-01-10 | (relevant) |"
   ]
  },
  {
   "cell_type": "code",
   "execution_count": 143,
   "metadata": {},
   "outputs": [
    {
     "name": "stderr",
     "output_type": "stream",
     "text": [
      "  0%|          | 0/2 [00:00<?, ?it/s]"
     ]
    },
    {
     "name": "stderr",
     "output_type": "stream",
     "text": [
      "100%|██████████| 2/2 [00:05<00:00,  2.84s/it]\n"
     ]
    }
   ],
   "source": [
    "# Diagnosis\n",
    "\n",
    "icd10 = [\"I10\", \"I11\", \"I12\", \"I13\", \"I15\"]\n",
    "\n",
    "\n",
    "files = glob.glob(r\"path/*.csv\")\n",
    "read = []\n",
    "for file in tqdm(files):\n",
    "    temp = pd.read_csv(file)\n",
    "    read.append(temp)\n",
    "\n",
    "dx = pd.concat(read)\n",
    "\n",
    "flag = dx[\"D035KEY\"].apply(lambda x: str(x).startswith(tuple(icd10)))\n",
    "dx = dx[flag]\n",
    "dx = dx[[\"ENC_HN\", \"D001KEY\", \"D035KEY\"]]\n",
    "dx[\"D001KEY\"] = pd.to_datetime(dx[\"D001KEY\"], format=\"%Y%m%d\")\n",
    "dx = dx[dx[\"D001KEY\"]>= pd.to_datetime(\"20230101\", format=\"%Y%m%d\")]\n",
    "dx = dx.sort_values([\"ENC_HN\", \"D001KEY\"])\n",
    "dx = dx.loc[dx.groupby(\"ENC_HN\").D001KEY.idxmin()] # keeping earliest date\n",
    "dx = dx.drop_duplicates(\"ENC_HN\", keep=\"first\")"
   ]
  },
  {
   "cell_type": "markdown",
   "metadata": {},
   "source": [
    "### Medication criteria"
   ]
  },
  {
   "cell_type": "markdown",
   "metadata": {},
   "source": [
    "The same goes for medication. We identified the medications prescribed in Ramathibodi Hospital and filtered for relevant drug classes. The mapping table was prepared by Dr Kunlawat Thadanipon and Dr Thosaphol Limpijankit."
   ]
  },
  {
   "cell_type": "code",
   "execution_count": 144,
   "metadata": {},
   "outputs": [
    {
     "data": {
      "text/html": [
       "<div>\n",
       "<style scoped>\n",
       "    .dataframe tbody tr th:only-of-type {\n",
       "        vertical-align: middle;\n",
       "    }\n",
       "\n",
       "    .dataframe tbody tr th {\n",
       "        vertical-align: top;\n",
       "    }\n",
       "\n",
       "    .dataframe thead th {\n",
       "        text-align: right;\n",
       "    }\n",
       "</style>\n",
       "<table border=\"1\" class=\"dataframe\">\n",
       "  <thead>\n",
       "    <tr style=\"text-align: right;\">\n",
       "      <th></th>\n",
       "      <th>ramadrugcode</th>\n",
       "      <th>drugname</th>\n",
       "      <th>combination</th>\n",
       "      <th>combinationsplit</th>\n",
       "      <th>atc</th>\n",
       "      <th>atcdeesc</th>\n",
       "      <th>id</th>\n",
       "      <th>drugclass</th>\n",
       "    </tr>\n",
       "  </thead>\n",
       "  <tbody>\n",
       "    <tr>\n",
       "      <th>0</th>\n",
       "      <td>AMLP1T-</td>\n",
       "      <td>Amlodipine 5 mg</td>\n",
       "      <td>Amlodipine besylate</td>\n",
       "      <td>Amlodipine besylate</td>\n",
       "      <td>C08CA</td>\n",
       "      <td>Dihydropyridine derivatives</td>\n",
       "      <td>1</td>\n",
       "      <td>CCB_DHP</td>\n",
       "    </tr>\n",
       "    <tr>\n",
       "      <th>1</th>\n",
       "      <td>AMLP2T-</td>\n",
       "      <td>Amlodipine 10 mg</td>\n",
       "      <td>Amlodipine besylate</td>\n",
       "      <td>Amlodipine besylate</td>\n",
       "      <td>C08CA</td>\n",
       "      <td>Dihydropyridine derivatives</td>\n",
       "      <td>2</td>\n",
       "      <td>CCB_DHP</td>\n",
       "    </tr>\n",
       "    <tr>\n",
       "      <th>2</th>\n",
       "      <td>NORV1T-</td>\n",
       "      <td>Norvasc 5 mg</td>\n",
       "      <td>Amlodipine besylate</td>\n",
       "      <td>Amlodipine besylate</td>\n",
       "      <td>C08CA</td>\n",
       "      <td>Dihydropyridine derivatives</td>\n",
       "      <td>3</td>\n",
       "      <td>CCB_DHP</td>\n",
       "    </tr>\n",
       "    <tr>\n",
       "      <th>3</th>\n",
       "      <td>NORV2T-</td>\n",
       "      <td>Norvasc 10 mg</td>\n",
       "      <td>Amlodipine besylate</td>\n",
       "      <td>Amlodipine besylate</td>\n",
       "      <td>C08CA</td>\n",
       "      <td>Dihydropyridine derivatives</td>\n",
       "      <td>4</td>\n",
       "      <td>CCB_DHP</td>\n",
       "    </tr>\n",
       "    <tr>\n",
       "      <th>4</th>\n",
       "      <td>TENM1T-</td>\n",
       "      <td>Tenormin 50 mg</td>\n",
       "      <td>Atenolol</td>\n",
       "      <td>Atenolol</td>\n",
       "      <td>C07AB</td>\n",
       "      <td>Beta blocking agents, selective</td>\n",
       "      <td>5</td>\n",
       "      <td>beta_blocker</td>\n",
       "    </tr>\n",
       "  </tbody>\n",
       "</table>\n",
       "</div>"
      ],
      "text/plain": [
       "  ramadrugcode          drugname          combination     combinationsplit  \\\n",
       "0      AMLP1T-   Amlodipine 5 mg  Amlodipine besylate  Amlodipine besylate   \n",
       "1      AMLP2T-  Amlodipine 10 mg  Amlodipine besylate  Amlodipine besylate   \n",
       "2      NORV1T-      Norvasc 5 mg  Amlodipine besylate  Amlodipine besylate   \n",
       "3      NORV2T-     Norvasc 10 mg  Amlodipine besylate  Amlodipine besylate   \n",
       "4      TENM1T-    Tenormin 50 mg             Atenolol             Atenolol   \n",
       "\n",
       "     atc                         atcdeesc  id     drugclass  \n",
       "0  C08CA      Dihydropyridine derivatives   1       CCB_DHP  \n",
       "1  C08CA      Dihydropyridine derivatives   2       CCB_DHP  \n",
       "2  C08CA      Dihydropyridine derivatives   3       CCB_DHP  \n",
       "3  C08CA      Dihydropyridine derivatives   4       CCB_DHP  \n",
       "4  C07AB  Beta blocking agents, selective   5  beta_blocker  "
      ]
     },
     "execution_count": 144,
     "metadata": {},
     "output_type": "execute_result"
    }
   ],
   "source": [
    "\"Medication\"\n",
    "\n",
    "key = pd.read_excel(r\"path\\map_list\\cohort_anti_HT.xlsx\")\n",
    "key.head()"
   ]
  },
  {
   "cell_type": "markdown",
   "metadata": {},
   "source": [
    "The following code block is needlessly complicated due to the difference in data format of medication data in Ramathibodi Hospital.\n",
    "This is the required input format. \n",
    "\n",
    "| Primary Key | Date | Drugcode |\n",
    "|-|-|-|\n",
    "| A | 2023-01-01 | (not relevant) |\n",
    "| A | 2023-01-10 | (relevant) |\n",
    "| A | 2023-01-10 | (relevant) |\n",
    "| A | 2023-02-01 | (relevant) |\n",
    "\n",
    "Essentially the goal is to identify the transactions where relevant Anti Hypertensive medication was given, and keep the earliest date. Please note that multiple relevant medications can be prescribed on the same day.\n",
    "\n",
    "| Primary Key | Date | Drugcode |\n",
    "|-|-|-|\n",
    "| A | 2023-01-10 | (relevant) |\n",
    "| A | 2023-01-10 | (relevant) |\n"
   ]
  },
  {
   "cell_type": "code",
   "execution_count": 145,
   "metadata": {},
   "outputs": [
    {
     "name": "stderr",
     "output_type": "stream",
     "text": [
      "100%|██████████| 1/1 [00:21<00:00, 21.05s/it]\n"
     ]
    }
   ],
   "source": [
    "files = (glob.glob(r\"path/*csv\"))\n",
    "\n",
    "read = []\n",
    "for file in tqdm(files):\n",
    "    try:\n",
    "        temp = pd.read_csv(file)\n",
    "    except BaseException:\n",
    "        temp = pd.read_csv(file, sep=r'$', quotechar=r'\"', encoding='utf-8', engine= \"python\", dtype= str, error_bad_lines=False, warn_bad_lines=False)\n",
    "        temp = temp.loc[:, ~temp.columns.str.startswith(\"Unnamed\")]\n",
    "    if \"CODE\" in temp.columns:\n",
    "        temp = temp[[\"ENC_HN\", \"REC_DATE\", \"CODE\"]]\n",
    "        temp[\"REC_DATE\"] = pd.to_datetime(temp[\"REC_DATE\"], format=\"%Y%m%d\")\n",
    "        temp.columns = [\"ENC_HN\", \"D001KEY\", \"CODE\"]\n",
    "    elif \"DSPCode\" in temp.columns:\n",
    "        temp = temp[[\"ENC_HN\", \"PerformDate\", \"DSPCode\"]]\n",
    "        temp[\"PerformDate\"] = pd.to_datetime(temp[\"PerformDate\"]).dt.normalize()\n",
    "        temp.columns = [\"ENC_HN\", \"D001KEY\", \"CODE\"]\n",
    "    elif \"Drugcode\" in temp.columns:\n",
    "        temp = temp[[\"ENC_HN\", \"BillDate\", \"Drugcode\", \"OrderDate\"]]\n",
    "        temp[\"BillDate\"] = temp[\"BillDate\"].fillna(temp[\"OrderDate\"])\n",
    "        temp = temp.drop(\"OrderDate\", 1)\n",
    "        temp[\"BillDate\"] = pd.to_datetime(temp[\"BillDate\"]).dt.normalize()\n",
    "        temp.columns = [\"ENC_HN\", \"D001KEY\", \"CODE\"]\n",
    "    # selected medications\n",
    "    temp = temp[temp[\"CODE\"].isin(key[\"ramadrugcode\"])]\n",
    "    temp = temp[temp[\"D001KEY\"] == temp.groupby(\"ENC_HN\")[\"D001KEY\"].transform(\"min\")] # keeping earliest date\n",
    "    read.append(temp)\n",
    "\n",
    "med = pd.concat(read)\n",
    "\n",
    "med = med[med[\"D001KEY\"]>= pd.to_datetime(\"20230101\", format=\"%Y%m%d\")]\n",
    "med = med.sort_values([\"ENC_HN\", \"D001KEY\"])\n",
    "med = med[med[\"D001KEY\"] == med.groupby(\"ENC_HN\")[\"D001KEY\"].transform(\"min\")]\n",
    "\n",
    "med = med.groupby([\"ENC_HN\", \"D001KEY\"])[\"CODE\"].apply(lambda x: list(set(x))).reset_index() # you need this\n"
   ]
  },
  {
   "cell_type": "markdown",
   "metadata": {},
   "source": [
    "### New cases of Hypertension"
   ]
  },
  {
   "cell_type": "markdown",
   "metadata": {},
   "source": [
    "This step is not necessary for the first time. For me, I am updating my cohort so subjects already in the cohort are removed."
   ]
  },
  {
   "cell_type": "code",
   "execution_count": 146,
   "metadata": {},
   "outputs": [],
   "source": [
    "# because it is an update, I remove old cases.\n",
    "\n",
    "old_hn = pd.read_csv(r\"path\\hthn_2010_2022.csv\")\n",
    "\n",
    "new_dx = dx[~dx.ENC_HN.isin(old_hn.ENC_HN)].reset_index(drop=True)\n",
    "new_dx.ENC_HN.nunique() # 5941\n",
    "\n",
    "new_med = med[~med.ENC_HN.isin(old_hn.ENC_HN)].reset_index(drop=True)\n",
    "new_med.ENC_HN.nunique() # 7998\n",
    "\n",
    "new_dx.to_pickle(r\"path/new_case/icd10_hn.pkl\")\n",
    "new_med.to_pickle(r\"path/new_case/med_hn.pkl\")"
   ]
  },
  {
   "cell_type": "markdown",
   "metadata": {},
   "source": [
    "### Merging for tentative number of cases"
   ]
  },
  {
   "cell_type": "markdown",
   "metadata": {},
   "source": [
    "This is diagnosis data.\n",
    "| Primary Key | Date | ICD |\n",
    "|-|-|-|\n",
    "| A | 2023-01-09 | (icd code) |\n",
    "| C | 2023-02-13 | (icd code) |\n",
    "\n",
    "This is medication data.\n",
    "| Primary Key | Date | MED |\n",
    "|-|-|-|\n",
    "| A | 2023-01-10 | (med code) |\n",
    "| B | 2023-01-13 | (med code) |\n",
    "| C | 2023-02-13 | (med code) |\n",
    "\n",
    "This is merging for tentative number of cases. While the patient might be in both ICD and Medication groups, we identify by the first date of diagnosis.\n",
    "\n",
    "| Primary Key | Bill_Date | Med_Date | First_Date | flag |\n",
    "|-|-|-|-|-|\n",
    "| A | 2023-01-09 | 2023-01-10 | 2023-01-09 | icd |\n",
    "| B | | 2023-01-13 | 2023-01-13 | med |\n",
    "| C | 2023-02-13 | 2023-02-13 | 2023-02-13 | both |\n",
    "\n",
    "In these subjects, subject A is considered ICD only, subject B as Anti-H only and C as both ICD-10 and Anti-H group.\n",
    "\n"
   ]
  },
  {
   "cell_type": "code",
   "execution_count": 147,
   "metadata": {},
   "outputs": [
    {
     "name": "stdout",
     "output_type": "stream",
     "text": [
      "No of possible HT subjects are 10,645.\n",
      "For icd group, the number of subjects is 3,429.\n",
      "For both group, the number of subjects is 1,060.\n",
      "For med group, the number of subjects is 6,156.\n"
     ]
    }
   ],
   "source": [
    "new_dx.columns = [\"ENC_HN\", \"ICD_DATE\", \"ICD\"]\n",
    "new_med.columns = [\"ENC_HN\", \"MED_DATE\", \"MED\"]\n",
    "\n",
    "data = new_dx.merge(new_med, on = [\"ENC_HN\"], how=\"outer\")\n",
    "data[\"D001KEY\"] = data[[\"ICD_DATE\", \"MED_DATE\"]].min(1) # first date of HT is whichever date that happen first.\n",
    "data[\"flag\"] = np.where(data[\"D001KEY\"]!=data[\"ICD_DATE\"], \"med\", # if ICD does not happen first, it is medication group.\n",
    "                        np.where(data[\"D001KEY\"]!=data[\"MED_DATE\"], \"icd\", # if medication does not happen first, it is ICD group.\n",
    "                                 \"both\")) # otherwise, it is both\n",
    "\n",
    "print(\"No of possible HT subjects are {:,}.\".format(data.ENC_HN.nunique())) # 10645\n",
    "\n",
    "for flag in [\"icd\", \"both\", \"med\"]:\n",
    "    print(\"For {} group, the number of subjects is {:,}.\".format(flag, len(data[data.flag==flag])))\n",
    "\n",
    "data.to_pickle(r\"path/new_case/merged_hn_inferred.csv.pkl\")"
   ]
  },
  {
   "cell_type": "markdown",
   "metadata": {},
   "source": [
    "### Filtering the medication only cases"
   ]
  },
  {
   "cell_type": "markdown",
   "metadata": {},
   "source": [
    "Since medications are identified using ramadrugcodes, they are transformed into generic drug classes using the previously shown mapping table.\n",
    "\n",
    "``ast.literal_eval`` is required if the data file is imported again since Pandas does not import ``dtype`` as ``list``."
   ]
  },
  {
   "cell_type": "code",
   "execution_count": 152,
   "metadata": {},
   "outputs": [
    {
     "name": "stderr",
     "output_type": "stream",
     "text": [
      "100%|██████████| 6156/6156 [00:00<00:00, 558128.39it/s]\n",
      "100%|██████████| 6156/6156 [00:00<00:00, 684049.58it/s]"
     ]
    },
    {
     "name": "stdout",
     "output_type": "stream",
     "text": [
      "\n",
      "Mapping ramadrugcodes such as ['BISS1T-', 'AMLP2T-'] to generic drugclass such as ['CCB_DHP', 'beta_blocker']\n"
     ]
    },
    {
     "name": "stderr",
     "output_type": "stream",
     "text": [
      "\n"
     ]
    },
    {
     "data": {
      "text/html": [
       "<div>\n",
       "<style scoped>\n",
       "    .dataframe tbody tr th:only-of-type {\n",
       "        vertical-align: middle;\n",
       "    }\n",
       "\n",
       "    .dataframe tbody tr th {\n",
       "        vertical-align: top;\n",
       "    }\n",
       "\n",
       "    .dataframe thead th {\n",
       "        text-align: right;\n",
       "    }\n",
       "</style>\n",
       "<table border=\"1\" class=\"dataframe\">\n",
       "  <thead>\n",
       "    <tr style=\"text-align: right;\">\n",
       "      <th></th>\n",
       "      <th>MED</th>\n",
       "      <th>drugclass</th>\n",
       "    </tr>\n",
       "  </thead>\n",
       "  <tbody>\n",
       "    <tr>\n",
       "      <th>0</th>\n",
       "      <td>[BISS1T-, AMLP2T-]</td>\n",
       "      <td>[CCB_DHP, beta_blocker]</td>\n",
       "    </tr>\n",
       "    <tr>\n",
       "      <th>1</th>\n",
       "      <td>[LOSL-T-]</td>\n",
       "      <td>[ARB]</td>\n",
       "    </tr>\n",
       "    <tr>\n",
       "      <th>2</th>\n",
       "      <td>[ENAR-T-]</td>\n",
       "      <td>[ACEI]</td>\n",
       "    </tr>\n",
       "    <tr>\n",
       "      <th>3</th>\n",
       "      <td>[LOSL-T-, AMLP1T-]</td>\n",
       "      <td>[CCB_DHP, ARB]</td>\n",
       "    </tr>\n",
       "    <tr>\n",
       "      <th>4</th>\n",
       "      <td>[CRDP2I-, CRDP1I-, AVEX1I-]</td>\n",
       "      <td>[CCB_DHP, alpha_beta_blocker]</td>\n",
       "    </tr>\n",
       "  </tbody>\n",
       "</table>\n",
       "</div>"
      ],
      "text/plain": [
       "                           MED                      drugclass\n",
       "0           [BISS1T-, AMLP2T-]        [CCB_DHP, beta_blocker]\n",
       "1                    [LOSL-T-]                          [ARB]\n",
       "2                    [ENAR-T-]                         [ACEI]\n",
       "3           [LOSL-T-, AMLP1T-]                 [CCB_DHP, ARB]\n",
       "4  [CRDP2I-, CRDP1I-, AVEX1I-]  [CCB_DHP, alpha_beta_blocker]"
      ]
     },
     "execution_count": 152,
     "metadata": {},
     "output_type": "execute_result"
    }
   ],
   "source": [
    "key = pd.read_excel(r\"path\\map_list\\cohort_anti_HT.xlsx\")\n",
    "key = key.set_index(\"ramadrugcode\")[\"drugclass\"].to_dict()\n",
    "\n",
    "med_only = data[data[\"flag\"]==\"med\"].reset_index(drop=True) # med only group\n",
    "\n",
    "try:\n",
    "    med_only[\"drugclass\"] = med_only[\"MED\"].progress_apply(lambda x: [key[i] for i in x])\n",
    "except:\n",
    "    med_only[\"drugclass\"] = med_only[\"MED\"].progress_apply(lambda x: [key[i] for i in ast.literal_eval(x)])\n",
    "\n",
    "med_only[\"drugclass\"] = med_only[\"drugclass\"].progress_apply(lambda x: list(set(x)))\n",
    "print(\"\\nMapping ramadrugcodes such as {} to generic drugclass such as {}\".format(med_only[\"MED\"][0], med_only[\"drugclass\"][0]))\n",
    "med_only[[\"MED\", \"drugclass\"]].head()"
   ]
  },
  {
   "cell_type": "markdown",
   "metadata": {},
   "source": [
    "Other indications for specific drug classes were prepared by Dr Kunlawat Thadanipon and Dr Thosaphol Limpijankit. The function ``check_history`` look for other indications in patient's history using ICD-10 codes.\n",
    "\n",
    "The input is list of medications and the date of prescription to check.\n",
    "\n",
    "| Primary Key | Date | drugclass |\n",
    "|-|-|-|\n",
    "| A | 2023-01-10 | [drug A, drug B] |\n",
    "\n",
    "If they have corresponding history, the output is tuple of indication and medication.\n",
    "\n",
    "| Primary Key | Date | drugclass | Check History|\n",
    "|-|-|-|-|\n",
    "| A | 2023-01-10 | [drug A, drug B] | [drug A, (other indication on 2022-10-04, drug B)] |\n",
    "\n",
    "If the patient have at least one Anti-H that does not correspond with other indication, we include them."
   ]
  },
  {
   "cell_type": "code",
   "execution_count": 159,
   "metadata": {},
   "outputs": [
    {
     "name": "stderr",
     "output_type": "stream",
     "text": [
      "100%|██████████| 6156/6156 [00:00<00:00, 13210.32it/s]"
     ]
    },
    {
     "name": "stdout",
     "output_type": "stream",
     "text": [
      "For example, this is the list of medications to check ['CCB_nonDHP', 'beta_blocker'] and \n",
      "this is the corresponding history [('Arrhythmias on 2010-01-11', 'CCB_nonDHP'), ('Hyperthyroidism on 2010-04-12', 'beta_blocker')].\n"
     ]
    },
    {
     "name": "stderr",
     "output_type": "stream",
     "text": [
      "\n"
     ]
    }
   ],
   "source": [
    "# Other indication\n",
    "indi = pd.read_excel(r\"path\\map_list\\medication_map_2301.xlsx\", sheet_name=\"other indications\")\n",
    "indi[\"ICD-10\"] = indi[\"ICD-10\"].apply(lambda x: [(\"\".join(i.strip().split(\".\"))).ljust(4, \"0\") for i in x.split(\",\")])\n",
    "\n",
    "files = (glob.glob(r\"path/*.csv\"))\n",
    "\n",
    "read = []\n",
    "for file in files:\n",
    "    temp = pd.read_csv(file)\n",
    "    temp = temp[temp.ENC_HN.isin(med_only.ENC_HN)]\n",
    "    temp = temp[temp.D035KEY.isin(indi[\"ICD-10\"].sum())]\n",
    "    temp[\"D001KEY\"] = pd.to_datetime(temp[\"D001KEY\"], format=\"%Y%m%d\")\n",
    "    temp = temp[[\"ENC_HN\", \"D001KEY\", \"D035KEY\"]]\n",
    "    read.append(temp)\n",
    "\n",
    "dx = pd.concat(read)\n",
    "\n",
    "def check_history(drugclass, hn, dx = dx, indimap = indi):\n",
    "    res = drugclass\n",
    "    if (hn in list(dx.ENC_HN)) & (drugclass in list(indimap[\"Drug Class\"])):\n",
    "        oth_indi = indimap[indimap[\"Drug Class\"]==drugclass]\n",
    "        cause = oth_indi[\"Other Indications\"].values[0]\n",
    "        oth_indi = oth_indi[\"ICD-10\"].values[0]\n",
    "        dx = dx[dx.D035KEY.isin(oth_indi)]\n",
    "        if len(dx)>0:\n",
    "            dx = dx[dx.D001KEY==dx.D001KEY.min()][\"D001KEY\"].astype(str).values[0]\n",
    "            res = (\"{} on {}\".format(cause, dx), drugclass)\n",
    "        else:\n",
    "            pass\n",
    "    else:\n",
    "        pass\n",
    "    return res\n",
    "\n",
    "med_only[\"check_history\"] = med_only.progress_apply(lambda row: [check_history(i, row[\"ENC_HN\"]) for i in row[\"drugclass\"]], axis=1)\n",
    "\n",
    "print(\"For example, this is the list of medications to check {} and \\nthis is the corresponding history {}.\".format(med_only.loc[2442,\"drugclass\"], med_only.loc[2442,\"check_history\"]))"
   ]
  },
  {
   "cell_type": "code",
   "execution_count": 172,
   "metadata": {},
   "outputs": [
    {
     "name": "stdout",
     "output_type": "stream",
     "text": [
      "\n",
      "For example patient with ['CCB_DHP', 'alpha2_agonist', 'ARB', ('Hyperthyroidism on 2010-04-12', 'beta_blocker')], we will include so boolean for drop is 0.\n",
      "For example patient with [('Arrhythmias on 2010-01-11', 'CCB_nonDHP'), ('Hyperthyroidism on 2010-04-12', 'beta_blocker')], we will exclude so boolean for drop is 1.\n",
      "Medication only patients with history of other indications is 47.\n"
     ]
    },
    {
     "data": {
      "text/html": [
       "<div>\n",
       "<style scoped>\n",
       "    .dataframe tbody tr th:only-of-type {\n",
       "        vertical-align: middle;\n",
       "    }\n",
       "\n",
       "    .dataframe tbody tr th {\n",
       "        vertical-align: top;\n",
       "    }\n",
       "\n",
       "    .dataframe thead th {\n",
       "        text-align: right;\n",
       "    }\n",
       "</style>\n",
       "<table border=\"1\" class=\"dataframe\">\n",
       "  <thead>\n",
       "    <tr style=\"text-align: right;\">\n",
       "      <th></th>\n",
       "      <th>drugclass</th>\n",
       "      <th>check_history</th>\n",
       "      <th>check2</th>\n",
       "    </tr>\n",
       "  </thead>\n",
       "  <tbody>\n",
       "    <tr>\n",
       "      <th>956</th>\n",
       "      <td>[CCB_DHP, ARB]</td>\n",
       "      <td>[CCB_DHP, ARB]</td>\n",
       "      <td>0</td>\n",
       "    </tr>\n",
       "    <tr>\n",
       "      <th>4222</th>\n",
       "      <td>[beta_blocker]</td>\n",
       "      <td>[beta_blocker]</td>\n",
       "      <td>0</td>\n",
       "    </tr>\n",
       "    <tr>\n",
       "      <th>4985</th>\n",
       "      <td>[alpha_beta_blocker]</td>\n",
       "      <td>[alpha_beta_blocker]</td>\n",
       "      <td>0</td>\n",
       "    </tr>\n",
       "    <tr>\n",
       "      <th>2442</th>\n",
       "      <td>[CCB_nonDHP, beta_blocker]</td>\n",
       "      <td>[(Arrhythmias on 2010-01-11, CCB_nonDHP), (Hyp...</td>\n",
       "      <td>1</td>\n",
       "    </tr>\n",
       "    <tr>\n",
       "      <th>4592</th>\n",
       "      <td>[CCB_DHP]</td>\n",
       "      <td>[CCB_DHP]</td>\n",
       "      <td>0</td>\n",
       "    </tr>\n",
       "  </tbody>\n",
       "</table>\n",
       "</div>"
      ],
      "text/plain": [
       "                       drugclass  \\\n",
       "956               [CCB_DHP, ARB]   \n",
       "4222              [beta_blocker]   \n",
       "4985        [alpha_beta_blocker]   \n",
       "2442  [CCB_nonDHP, beta_blocker]   \n",
       "4592                   [CCB_DHP]   \n",
       "\n",
       "                                          check_history  check2  \n",
       "956                                      [CCB_DHP, ARB]       0  \n",
       "4222                                     [beta_blocker]       0  \n",
       "4985                               [alpha_beta_blocker]       0  \n",
       "2442  [(Arrhythmias on 2010-01-11, CCB_nonDHP), (Hyp...       1  \n",
       "4592                                          [CCB_DHP]       0  "
      ]
     },
     "execution_count": 172,
     "metadata": {},
     "output_type": "execute_result"
    }
   ],
   "source": [
    "# Boolean column to drop rows\n",
    "# Some patients are given more than one medication and not all of them have other indications, we include them.\n",
    "# So, I use minimum of the list.\n",
    "med_only[\"check2\"] = med_only[\"check_history\"].apply(lambda x: min([1 if isinstance(i, tuple) else 0 for i in x]))\n",
    "\n",
    "print(\"\\nFor example patient with {}, we will include so boolean for drop is {}.\".format(med_only.loc[3236,\"check_history\"], med_only.loc[3236,\"check2\"]))\n",
    "print(\"For example patient with {}, we will exclude so boolean for drop is {}.\".format(med_only.loc[2442,\"check_history\"], med_only.loc[2442,\"check2\"]))\n",
    "print(\"Medication only patients with history of other indications is {}.\".format(sum(med_only[\"check2\"]>0)))\n",
    "\n",
    "med_only[[\"drugclass\", \"check_history\", \"check2\"]].sample(5, random_state=2023)"
   ]
  },
  {
   "cell_type": "markdown",
   "metadata": {},
   "source": [
    "### Final Merge"
   ]
  },
  {
   "cell_type": "markdown",
   "metadata": {},
   "source": [
    "Diagnosis of HT is inferred from medication, after we have dropped those subjects."
   ]
  },
  {
   "cell_type": "code",
   "execution_count": 179,
   "metadata": {},
   "outputs": [
    {
     "name": "stdout",
     "output_type": "stream",
     "text": [
      "No of possible HT subjects are 10,645.\n",
      "For icd group, the number of subjects is 3,429.\n",
      "For both group, the number of subjects is 1,060.\n",
      "For med group, the number of subjects is 6,109.\n"
     ]
    },
    {
     "data": {
      "text/html": [
       "<div>\n",
       "<style scoped>\n",
       "    .dataframe tbody tr th:only-of-type {\n",
       "        vertical-align: middle;\n",
       "    }\n",
       "\n",
       "    .dataframe tbody tr th {\n",
       "        vertical-align: top;\n",
       "    }\n",
       "\n",
       "    .dataframe thead th {\n",
       "        text-align: right;\n",
       "    }\n",
       "</style>\n",
       "<table border=\"1\" class=\"dataframe\">\n",
       "  <thead>\n",
       "    <tr style=\"text-align: right;\">\n",
       "      <th></th>\n",
       "      <th>ENC_HN</th>\n",
       "      <th>D001KEY</th>\n",
       "      <th>ICD_DATE</th>\n",
       "      <th>ICD</th>\n",
       "      <th>MED_DATE</th>\n",
       "      <th>MED</th>\n",
       "      <th>flag</th>\n",
       "    </tr>\n",
       "  </thead>\n",
       "  <tbody>\n",
       "    <tr>\n",
       "      <th>0</th>\n",
       "      <td>A</td>\n",
       "      <td>2023-07-11</td>\n",
       "      <td>2023-07-11</td>\n",
       "      <td>I10</td>\n",
       "      <td>2023-07-11</td>\n",
       "      <td>[AMLP1T-]</td>\n",
       "      <td>both</td>\n",
       "    </tr>\n",
       "    <tr>\n",
       "      <th>1</th>\n",
       "      <td>B</td>\n",
       "      <td>2023-02-23</td>\n",
       "      <td>2023-02-23</td>\n",
       "      <td>I10</td>\n",
       "      <td>NaT</td>\n",
       "      <td>NaN</td>\n",
       "      <td>icd</td>\n",
       "    </tr>\n",
       "    <tr>\n",
       "      <th>2</th>\n",
       "      <td>C</td>\n",
       "      <td>2023-01-09</td>\n",
       "      <td>2023-01-09</td>\n",
       "      <td>I10</td>\n",
       "      <td>2023-01-09</td>\n",
       "      <td>[LOSL-T-]</td>\n",
       "      <td>both</td>\n",
       "    </tr>\n",
       "    <tr>\n",
       "      <th>3</th>\n",
       "      <td>D</td>\n",
       "      <td>2023-07-04</td>\n",
       "      <td>2023-07-07</td>\n",
       "      <td>I10</td>\n",
       "      <td>2023-07-04</td>\n",
       "      <td>[BISS1T-, AMLP2T-]</td>\n",
       "      <td>med</td>\n",
       "    </tr>\n",
       "    <tr>\n",
       "      <th>4</th>\n",
       "      <td>E</td>\n",
       "      <td>2023-01-17</td>\n",
       "      <td>2023-01-17</td>\n",
       "      <td>I10</td>\n",
       "      <td>NaT</td>\n",
       "      <td>NaN</td>\n",
       "      <td>icd</td>\n",
       "    </tr>\n",
       "  </tbody>\n",
       "</table>\n",
       "</div>"
      ],
      "text/plain": [
       "  ENC_HN    D001KEY   ICD_DATE  ICD   MED_DATE                 MED  flag\n",
       "0      A 2023-07-11 2023-07-11  I10 2023-07-11           [AMLP1T-]  both\n",
       "1      B 2023-02-23 2023-02-23  I10        NaT                 NaN   icd\n",
       "2      C 2023-01-09 2023-01-09  I10 2023-01-09           [LOSL-T-]  both\n",
       "3      D 2023-07-04 2023-07-07  I10 2023-07-04  [BISS1T-, AMLP2T-]   med\n",
       "4      E 2023-01-17 2023-01-17  I10        NaT                 NaN   icd"
      ]
     },
     "execution_count": 179,
     "metadata": {},
     "output_type": "execute_result"
    }
   ],
   "source": [
    "to_drop = med_only[med_only[\"check2\"]>0] # 47\n",
    "final_data = data[~data.ENC_HN.isin(to_drop.ENC_HN)]\n",
    "\n",
    "print(\"No of possible HT subjects are {:,}.\".format(data.ENC_HN.nunique())) # 10645\n",
    "\n",
    "for flag in [\"icd\", \"both\", \"med\"]:\n",
    "    print(\"For {} group, the number of subjects is {:,}.\".format(flag, len(final_data[final_data.flag==flag])))\n",
    "\n",
    "pd.concat([pd.DataFrame({\"ENC_HN\": [\"A\", \"B\", \"C\", \"D\", \"E\"]}), final_data[[\"D001KEY\", \"ICD_DATE\", \"ICD\", \"MED_DATE\", \"MED\", \"flag\"]].head(5)], 1)"
   ]
  },
  {
   "cell_type": "markdown",
   "metadata": {},
   "source": [
    "### Summarization for Data Flow"
   ]
  },
  {
   "cell_type": "code",
   "execution_count": 131,
   "metadata": {},
   "outputs": [
    {
     "name": "stdout",
     "output_type": "stream",
     "text": [
      "For the flow chart\n",
      "===========================\n",
      "ICD 10 for Hypertension (HT): n = 5,941 | Anti-Hypertensive medication (Anti-H): n = 7,998\n",
      "======sub-groups===========\n",
      "ICD-10 only: n = 3,429 | both ICD-10 and Anti-H: n = 1,060 | Anti-H only: n = 6,156\n",
      "======med only=============\n",
      "other indications: n = 47\n",
      "======re-merge=============\n",
      "Diagnosis of HT: n = 5,941 | Inferred Diagnosis of HT: n = 6,109 \n",
      "======final merge==========\n",
      "HT subjects: n = 10,598\n",
      "======sub-groups===========\n",
      "ICD-10 only: n = 3,429 | both ICD-10 and Anti-H: n = 1,060 | Anti-H only: n = 6,109\n"
     ]
    }
   ],
   "source": [
    "print(\"For the flow chart\")\n",
    "print(\"===========================\")\n",
    "print(\"ICD 10 for Hypertension (HT): n = {:,} | Anti-Hypertensive medication (Anti-H): n = {:,}\".format(new_dx.ENC_HN.nunique(), new_med.ENC_HN.nunique()))\n",
    "print(\"======tentative groups=====\")\n",
    "print(\"ICD-10 only: n = {:,}\".format(len(data[data.flag==\"icd\"])), end=\" | \")\n",
    "print(\"both ICD-10 and Anti-H: n = {:,}\".format(len(data[data.flag==\"both\"])), end=\" | \")\n",
    "print(\"Anti-H only: n = {:,}\".format(len(data[data.flag==\"med\"])))\n",
    "print(\"======med only=============\")\n",
    "print(\"other indications: n = {:,}\".format(sum(med_only[\"check2\"]>0)))\n",
    "print(\"======final merge==========\")\n",
    "print(\"Diagnosis of HT: n = {:,} | Inferred Diagnosis of HT: n = {:,} \".format(new_dx.ENC_HN.nunique(), len(final_data[final_data.flag==\"med\"])))\n",
    "print(\"HT subjects: n = {:,}\".format(len(final_data)))\n",
    "print(\"======sub-groups===========\")\n",
    "print(\"ICD-10 only: n = {:,}\".format(len(final_data[final_data.flag==\"icd\"])), end=\" | \")\n",
    "print(\"both ICD-10 and Anti-H: n = {:,}\".format(len(final_data[final_data.flag==\"both\"])), end=\" | \")\n",
    "print(\"Anti-H only: n = {:,}\".format(len(final_data[final_data.flag==\"med\"])))"
   ]
  }
 ],
 "metadata": {
  "kernelspec": {
   "display_name": "Python 3.10.6 ('hteza')",
   "language": "python",
   "name": "python3"
  },
  "language_info": {
   "codemirror_mode": {
    "name": "ipython",
    "version": 3
   },
   "file_extension": ".py",
   "mimetype": "text/x-python",
   "name": "python",
   "nbconvert_exporter": "python",
   "pygments_lexer": "ipython3",
   "version": "3.10.6"
  },
  "vscode": {
   "interpreter": {
    "hash": "fc6b5e5f7b5def4b8d02fdf82a8c35e08c662f89fddbe275b4cc44e8b8f1dd07"
   }
  }
 },
 "nbformat": 4,
 "nbformat_minor": 2
}
